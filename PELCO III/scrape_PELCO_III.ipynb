{
 "cells": [
  {
   "cell_type": "code",
   "execution_count": 1,
   "metadata": {},
   "outputs": [
    {
     "name": "stdout",
     "output_type": "stream",
     "text": [
      "Requirement already satisfied: requests in /opt/anaconda3/lib/python3.11/site-packages (2.31.0)\n",
      "Requirement already satisfied: charset-normalizer<4,>=2 in /opt/anaconda3/lib/python3.11/site-packages (from requests) (2.0.4)\n",
      "Requirement already satisfied: idna<4,>=2.5 in /opt/anaconda3/lib/python3.11/site-packages (from requests) (3.4)\n",
      "Requirement already satisfied: urllib3<3,>=1.21.1 in /opt/anaconda3/lib/python3.11/site-packages (from requests) (2.0.7)\n",
      "Requirement already satisfied: certifi>=2017.4.17 in /opt/anaconda3/lib/python3.11/site-packages (from requests) (2024.6.2)\n",
      "Note: you may need to restart the kernel to use updated packages.\n"
     ]
    }
   ],
   "source": [
    "%pip install requests"
   ]
  },
  {
   "cell_type": "code",
   "execution_count": 9,
   "metadata": {},
   "outputs": [
    {
     "name": "stdout",
     "output_type": "stream",
     "text": [
      "Source code downloaded successfully.\n"
     ]
    }
   ],
   "source": [
    "from selenium import webdriver\n",
    "from selenium.webdriver.chrome.service import Service\n",
    "from selenium.webdriver.common.by import By\n",
    "import time\n",
    "\n",
    "options = webdriver.ChromeOptions()\n",
    "options.add_argument('--headless')  # Run headless Chrome (no GUI)\n",
    "options.add_argument('--no-sandbox')\n",
    "options.add_argument('--disable-dev-shm-usage')\n",
    "options.add_argument('--disable-gpu')\n",
    "options.add_argument('--window-size=1920x1080')\n",
    "\n",
    "driver = webdriver.Chrome(options=options)\n",
    "\n",
    "# Open the website\n",
    "url = 'https://www.pelco3.org/rates.php'\n",
    "driver.get(url)\n",
    "\n",
    "# Optionally, wait for the page to fully load (adjust sleep time as needed)\n",
    "time.sleep(5)\n",
    "\n",
    "# Get the page source and save it to a file\n",
    "page_source = driver.page_source\n",
    "\n",
    "with open('pelco3_rates.html', 'w', encoding='utf-8') as file:\n",
    "    file.write(page_source)\n",
    "\n",
    "print(\"Source code downloaded successfully.\")\n",
    "\n",
    "# Close the browser window\n",
    "driver.quit()"
   ]
  },
  {
   "cell_type": "code",
   "execution_count": 12,
   "metadata": {},
   "outputs": [
    {
     "name": "stdout",
     "output_type": "stream",
     "text": [
      "Downloaded: pdf downloads/0724.pdf\n",
      "Downloaded: pdf downloads/0624.pdf\n",
      "Downloaded: pdf downloads/0524.pdf\n",
      "Downloaded: pdf downloads/0424.pdf\n",
      "Downloaded: pdf downloads/0324.pdf\n",
      "Downloaded: pdf downloads/0224.pdf\n",
      "Downloaded: pdf downloads/0124.pdf\n",
      "Downloaded: pdf downloads/1223.pdf\n",
      "Downloaded: pdf downloads/1123.pdf\n",
      "Downloaded: pdf downloads/1023.pdf\n",
      "Downloaded: pdf downloads/0923.pdf\n",
      "Downloaded: pdf downloads/0823.pdf\n",
      "Downloaded: pdf downloads/0723.pdf\n",
      "Downloaded: pdf downloads/0623.pdf\n",
      "Downloaded: pdf downloads/0523.pdf\n",
      "Downloaded: pdf downloads/0423.pdf\n",
      "Downloaded: pdf downloads/0323.pdf\n",
      "Downloaded: pdf downloads/0223.pdf\n",
      "Downloaded: pdf downloads/0123.pdf\n",
      "Downloaded: pdf downloads/1222.pdf\n",
      "Downloaded: pdf downloads/1122.pdf\n",
      "Downloaded: pdf downloads/1022.pdf\n",
      "Downloaded: pdf downloads/0922.pdf\n",
      "Downloaded: pdf downloads/0822.pdf\n",
      "Downloaded: pdf downloads/0722.pdf\n",
      "Downloaded: pdf downloads/0622.pdf\n",
      "Downloaded: pdf downloads/0522.pdf\n",
      "Downloaded: pdf downloads/0422.pdf\n",
      "Downloaded: pdf downloads/0322.pdf\n",
      "Downloaded: pdf downloads/0222.pdf\n",
      "Downloaded: pdf downloads/0122.pdf\n",
      "Downloaded: pdf downloads/1221.pdf\n",
      "Downloaded: pdf downloads/1121.pdf\n",
      "Downloaded: pdf downloads/1021.pdf\n",
      "Downloaded: pdf downloads/0921.pdf\n",
      "Downloaded: pdf downloads/0821.pdf\n",
      "Downloaded: pdf downloads/0721.pdf\n",
      "Downloaded: pdf downloads/0621.pdf\n",
      "Downloaded: pdf downloads/0521.pdf\n",
      "Downloaded: pdf downloads/0421.pdf\n",
      "Downloaded: pdf downloads/0321.pdf\n",
      "Downloaded: pdf downloads/0221.pdf\n",
      "Downloaded: pdf downloads/0121.pdf\n",
      "Downloaded: pdf downloads/1220.pdf\n",
      "Downloaded: pdf downloads/1120.pdf\n",
      "Downloaded: pdf downloads/1020.pdf\n",
      "Downloaded: pdf downloads/0920.pdf\n",
      "Downloaded: pdf downloads/0820.pdf\n",
      "Downloaded: pdf downloads/0720.pdf\n",
      "Downloaded: pdf downloads/0620.pdf\n",
      "Downloaded: pdf downloads/0520.pdf\n",
      "Downloaded: pdf downloads/0420.pdf\n",
      "Downloaded: pdf downloads/0320.pdf\n",
      "Downloaded: pdf downloads/0220.pdf\n",
      "Downloaded: pdf downloads/0120.pdf\n",
      "All PDFs have been downloaded.\n"
     ]
    }
   ],
   "source": [
    "import requests\n",
    "from bs4 import BeautifulSoup\n",
    "import os\n",
    "\n",
    "# Define the base URL to complete the relative links\n",
    "base_url = \"https://www.pelco3.org/public/rates/\"  # Adjust according to the actual base URL if different\n",
    "output_folder = \"pdf downloads\"\n",
    "\n",
    "# Create the output folder if it doesn't exist\n",
    "if not os.path.exists(output_folder):\n",
    "    os.makedirs(output_folder)\n",
    "\n",
    "# Load the HTML content\n",
    "with open('pelco3_rates.html', 'r', encoding='utf-8') as file:\n",
    "    html_content = file.read()\n",
    "\n",
    "# Parse the HTML content\n",
    "soup = BeautifulSoup(html_content, 'html.parser')\n",
    "\n",
    "# Find all the links to PDF files\n",
    "pdf_links = soup.find_all('a', href=True)\n",
    "\n",
    "# Iterate through all the links and download the PDFs\n",
    "for link in pdf_links:\n",
    "    href = link['href']\n",
    "    if href.endswith('.pdf'):  # Ensures only PDF files are downloaded\n",
    "        pdf_url = base_url + href\n",
    "        pdf_name = os.path.join(output_folder, pdf_url.split('/')[-1])\n",
    "\n",
    "        # Download the PDF\n",
    "        response = requests.get(pdf_url)\n",
    "        with open(pdf_name, 'wb') as pdf_file:\n",
    "            pdf_file.write(response.content)\n",
    "        \n",
    "        print(f\"Downloaded: {pdf_name}\")\n",
    "\n",
    "print(\"All PDFs have been downloaded.\")"
   ]
  },
  {
   "cell_type": "code",
   "execution_count": null,
   "metadata": {},
   "outputs": [],
   "source": []
  }
 ],
 "metadata": {
  "kernelspec": {
   "display_name": "base",
   "language": "python",
   "name": "python3"
  },
  "language_info": {
   "codemirror_mode": {
    "name": "ipython",
    "version": 3
   },
   "file_extension": ".py",
   "mimetype": "text/x-python",
   "name": "python",
   "nbconvert_exporter": "python",
   "pygments_lexer": "ipython3",
   "version": "3.11.7"
  }
 },
 "nbformat": 4,
 "nbformat_minor": 2
}
