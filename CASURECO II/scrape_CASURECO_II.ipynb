{
 "cells": [
  {
   "cell_type": "code",
   "execution_count": 1,
   "metadata": {},
   "outputs": [],
   "source": [
    "import os\n",
    "import re\n",
    "import tabula\n",
    "import pandas as pd\n",
    "import numpy as np"
   ]
  },
  {
   "cell_type": "code",
   "execution_count": 2,
   "metadata": {},
   "outputs": [],
   "source": [
    "# Set the JAVA_HOME environment variable to the Java installation directory\n",
    "os.environ[\"JAVA_HOME\"] = \"/opt/homebrew/opt/openjdk/libexec/openjdk.jdk\""
   ]
  },
  {
   "cell_type": "code",
   "execution_count": 3,
   "metadata": {},
   "outputs": [],
   "source": [
    "# Set display options to show all rows and columns\n",
    "pd.set_option('display.max_rows', None)\n",
    "pd.set_option('display.max_columns', None)"
   ]
  },
  {
   "cell_type": "code",
   "execution_count": 4,
   "metadata": {},
   "outputs": [
    {
     "name": "stdout",
     "output_type": "stream",
     "text": [
      "Note: you may need to restart the kernel to use updated packages.\n",
      "Requirement already satisfied: requests in /opt/anaconda3/lib/python3.11/site-packages (2.31.0)\n",
      "Requirement already satisfied: beautifulsoup4 in /opt/anaconda3/lib/python3.11/site-packages (4.12.2)\n",
      "Requirement already satisfied: charset-normalizer<4,>=2 in /opt/anaconda3/lib/python3.11/site-packages (from requests) (2.0.4)\n",
      "Requirement already satisfied: idna<4,>=2.5 in /opt/anaconda3/lib/python3.11/site-packages (from requests) (3.4)\n",
      "Requirement already satisfied: urllib3<3,>=1.21.1 in /opt/anaconda3/lib/python3.11/site-packages (from requests) (2.0.7)\n",
      "Requirement already satisfied: certifi>=2017.4.17 in /opt/anaconda3/lib/python3.11/site-packages (from requests) (2024.6.2)\n",
      "Requirement already satisfied: soupsieve>1.2 in /opt/anaconda3/lib/python3.11/site-packages (from beautifulsoup4) (2.5)\n",
      "Note: you may need to restart the kernel to use updated packages.\n",
      "Requirement already satisfied: openpyxl in /opt/anaconda3/lib/python3.11/site-packages (3.0.10)\n",
      "Requirement already satisfied: et_xmlfile in /opt/anaconda3/lib/python3.11/site-packages (from openpyxl) (1.1.0)\n",
      "Note: you may need to restart the kernel to use updated packages.\n",
      "Requirement already satisfied: selenium in /opt/anaconda3/lib/python3.11/site-packages (4.22.0)\n",
      "Requirement already satisfied: urllib3<3,>=1.26 in /opt/anaconda3/lib/python3.11/site-packages (from urllib3[socks]<3,>=1.26->selenium) (2.0.7)\n",
      "Requirement already satisfied: trio~=0.17 in /opt/anaconda3/lib/python3.11/site-packages (from selenium) (0.26.0)\n",
      "Requirement already satisfied: trio-websocket~=0.9 in /opt/anaconda3/lib/python3.11/site-packages (from selenium) (0.11.1)\n",
      "Requirement already satisfied: certifi>=2021.10.8 in /opt/anaconda3/lib/python3.11/site-packages (from selenium) (2024.6.2)\n",
      "Requirement already satisfied: typing_extensions>=4.9.0 in /opt/anaconda3/lib/python3.11/site-packages (from selenium) (4.9.0)\n",
      "Requirement already satisfied: websocket-client>=1.8.0 in /opt/anaconda3/lib/python3.11/site-packages (from selenium) (1.8.0)\n",
      "Requirement already satisfied: attrs>=23.2.0 in /opt/anaconda3/lib/python3.11/site-packages (from trio~=0.17->selenium) (23.2.0)\n",
      "Requirement already satisfied: sortedcontainers in /opt/anaconda3/lib/python3.11/site-packages (from trio~=0.17->selenium) (2.4.0)\n",
      "Requirement already satisfied: idna in /opt/anaconda3/lib/python3.11/site-packages (from trio~=0.17->selenium) (3.4)\n",
      "Requirement already satisfied: outcome in /opt/anaconda3/lib/python3.11/site-packages (from trio~=0.17->selenium) (1.3.0.post0)\n",
      "Requirement already satisfied: sniffio>=1.3.0 in /opt/anaconda3/lib/python3.11/site-packages (from trio~=0.17->selenium) (1.3.0)\n",
      "Requirement already satisfied: wsproto>=0.14 in /opt/anaconda3/lib/python3.11/site-packages (from trio-websocket~=0.9->selenium) (1.2.0)\n",
      "Requirement already satisfied: pysocks!=1.5.7,<2.0,>=1.5.6 in /opt/anaconda3/lib/python3.11/site-packages (from urllib3[socks]<3,>=1.26->selenium) (1.7.1)\n",
      "Requirement already satisfied: h11<1,>=0.9.0 in /opt/anaconda3/lib/python3.11/site-packages (from wsproto>=0.14->trio-websocket~=0.9->selenium) (0.14.0)\n",
      "Note: you may need to restart the kernel to use updated packages.\n",
      "Requirement already satisfied: webdriver-manager in /opt/anaconda3/lib/python3.11/site-packages (4.0.2)\n",
      "Requirement already satisfied: requests in /opt/anaconda3/lib/python3.11/site-packages (from webdriver-manager) (2.31.0)\n",
      "Requirement already satisfied: python-dotenv in /opt/anaconda3/lib/python3.11/site-packages (from webdriver-manager) (0.21.0)\n",
      "Requirement already satisfied: packaging in /opt/anaconda3/lib/python3.11/site-packages (from webdriver-manager) (23.1)\n",
      "Requirement already satisfied: charset-normalizer<4,>=2 in /opt/anaconda3/lib/python3.11/site-packages (from requests->webdriver-manager) (2.0.4)\n",
      "Requirement already satisfied: idna<4,>=2.5 in /opt/anaconda3/lib/python3.11/site-packages (from requests->webdriver-manager) (3.4)\n",
      "Requirement already satisfied: urllib3<3,>=1.21.1 in /opt/anaconda3/lib/python3.11/site-packages (from requests->webdriver-manager) (2.0.7)\n",
      "Requirement already satisfied: certifi>=2017.4.17 in /opt/anaconda3/lib/python3.11/site-packages (from requests->webdriver-manager) (2024.6.2)\n",
      "Note: you may need to restart the kernel to use updated packages.\n"
     ]
    }
   ],
   "source": [
    "%pip install -q tabula-py\n",
    "%pip install requests beautifulsoup4\n",
    "%pip install openpyxl\n",
    "%pip install selenium\n",
    "%pip install webdriver-manager"
   ]
  },
  {
   "cell_type": "markdown",
   "metadata": {},
   "source": [
    "### **Importing**"
   ]
  },
  {
   "cell_type": "markdown",
   "metadata": {},
   "source": [
    "Download the source code for CASURECO II's webpage."
   ]
  },
  {
   "cell_type": "code",
   "execution_count": 5,
   "metadata": {},
   "outputs": [
    {
     "name": "stdout",
     "output_type": "stream",
     "text": [
      "Webpage downloaded and saved as 'generation_charge.html'.\n"
     ]
    }
   ],
   "source": [
    "import requests\n",
    "\n",
    "url = 'https://www.casureco2.com.ph/support/rates?page=1'\n",
    "response = requests.get(url)\n",
    "\n",
    "if response.status_code == 200:\n",
    "    with open('generation_charge.html', 'w', encoding='utf-8') as file:\n",
    "        file.write(response.text)\n",
    "    print(\"Webpage downloaded and saved as 'generation_charge.html'.\")\n",
    "else:\n",
    "    print(f\"Failed to retrieve the webpage. Status code: {response.status_code}\")"
   ]
  },
  {
   "cell_type": "code",
   "execution_count": 11,
   "metadata": {},
   "outputs": [
    {
     "name": "stdout",
     "output_type": "stream",
     "text": [
      "Downloaded: pdf_downloads/July_2024_Generation_Charge.pdf\n",
      "Downloaded: pdf_downloads/June_2024_Generation_Charge.pdf\n",
      "Downloaded: pdf_downloads/May_2024_Generation_Charge.pdf\n",
      "Downloaded: pdf_downloads/April_2024_Generation_Charge.pdf\n",
      "Downloaded: pdf_downloads/March_2024_Generation_Charge.pdf\n",
      "Downloaded: pdf_downloads/February_2024_Generation_Charge.pdf\n",
      "Downloaded: pdf_downloads/January_2024_Generation_Charge.pdf\n",
      "Downloaded: pdf_downloads/December_2023_Generation_Charge.pdf\n",
      "Downloaded: pdf_downloads/November_2023_Generation_Charge.pdf\n",
      "Downloaded: pdf_downloads/October_2023_Generation_Charge.pdf\n",
      "Downloaded: pdf_downloads/September_2023_Generation_Charge.pdf\n",
      "Downloaded: pdf_downloads/August_2023_Generation_Charge.pdf\n",
      "Downloaded: pdf_downloads/July_2023_Generation_Charge.pdf\n",
      "Downloaded: pdf_downloads/June_2023_Generation_Charge.pdf\n",
      "Downloaded: pdf_downloads/May_2023_Generation_Charge.pdf\n",
      "Downloaded: pdf_downloads/April_2023_Generation_Charge.pdf\n",
      "Downloaded: pdf_downloads/March_2023_Generation_Charge.pdf\n",
      "Downloaded: pdf_downloads/February_2023_Generation_Charge.pdf\n",
      "Downloaded: pdf_downloads/January_2023_Generation_Charge.pdf\n"
     ]
    }
   ],
   "source": [
    "from selenium import webdriver\n",
    "from selenium.webdriver.chrome.service import Service\n",
    "from selenium.webdriver.chrome.options import Options\n",
    "from webdriver_manager.chrome import ChromeDriverManager\n",
    "from selenium.webdriver.common.by import By\n",
    "from selenium.webdriver.common.action_chains import ActionChains\n",
    "from selenium.webdriver.support.ui import WebDriverWait\n",
    "from selenium.webdriver.support import expected_conditions as EC\n",
    "from bs4 import BeautifulSoup\n",
    "import time\n",
    "\n",
    "# Set up Selenium WebDriver\n",
    "chrome_options = Options()\n",
    "chrome_options.add_argument(\"--headless\")  # Run in headless mode\n",
    "service = Service(ChromeDriverManager().install())\n",
    "driver = webdriver.Chrome(service=service, options=chrome_options)\n",
    "driver.get('https://www.casureco2.com.ph/support/rates?page=1')\n",
    "\n",
    "# Create a directory for storing PDFs if it doesn't exist\n",
    "download_dir = 'pdf_downloads'\n",
    "if not os.path.exists(download_dir):\n",
    "    os.makedirs(download_dir)\n",
    "\n",
    "# Function to download PDF\n",
    "def download_pdf(pdf_url, save_path):\n",
    "    response = requests.get(pdf_url)\n",
    "    with open(save_path, 'wb') as file:\n",
    "        file.write(response.content)\n",
    "    print(f\"Downloaded: {save_path}\")\n",
    "\n",
    "# Function to process the current page\n",
    "def process_current_page():\n",
    "    # Wait for the table to load\n",
    "    WebDriverWait(driver, 10).until(EC.presence_of_element_located((By.ID, 'biddings_table')))\n",
    "    \n",
    "    soup = BeautifulSoup(driver.page_source, 'html.parser')\n",
    "    table = soup.find('table', {'id': 'biddings_table'})\n",
    "    rows = table.find('tbody').find_all('tr')\n",
    "\n",
    "    for row in rows:\n",
    "        # Find the \"View PDF\" button and click it\n",
    "        view_pdf_button = row.find('button', {'data-dropdown-toggle': True})\n",
    "        if view_pdf_button:\n",
    "            view_pdf_button_id = view_pdf_button['id']\n",
    "            driver.find_element(By.ID, view_pdf_button_id).click()\n",
    "\n",
    "            # Wait for the dropdown to be visible\n",
    "            dropdown_id = f'dropdown{view_pdf_button_id.split(\"dropdownDefaultButton\")[-1]}'\n",
    "            WebDriverWait(driver, 10).until(EC.visibility_of_element_located((By.ID, dropdown_id)))\n",
    "\n",
    "            # Get the \"Generation Charge\" link and download the PDF\n",
    "            dropdown = driver.find_element(By.ID, dropdown_id)\n",
    "            gen_charge_link = dropdown.find_element(By.LINK_TEXT, 'Generation Charge').get_attribute('href')\n",
    "            month = row.find_all('th')[0].text.strip()\n",
    "            year = row.find_all('th')[1].text.strip()\n",
    "            save_path = os.path.join(download_dir, f'{month}_{year}_Generation_Charge.pdf')\n",
    "            download_pdf(gen_charge_link, save_path)\n",
    "\n",
    "            # Close the dropdown by clicking again on \"View PDF\"\n",
    "            driver.find_element(By.ID, view_pdf_button_id).click()\n",
    "\n",
    "# Function to check if we are on the last page\n",
    "def is_last_page():\n",
    "    try:\n",
    "        results_text = driver.find_element(By.XPATH, '//p[@class=\"text-sm text-gray-700 dark:text-white leading-5\"]').text\n",
    "        parts = results_text.split()\n",
    "        showing_to = int(parts[3])  # This should be the second number in the text \"Showing X to Y of Z results\"\n",
    "        total = int(parts[5])       # This should be the total number of results\n",
    "        return showing_to == total\n",
    "    except Exception as e:\n",
    "        print(f\"Error checking last page: {e}\")\n",
    "        return False\n",
    "\n",
    "# Loop through pages\n",
    "while True:\n",
    "    process_current_page()\n",
    "    \n",
    "    # Check if there is a next page\n",
    "    if is_last_page():\n",
    "        break\n",
    "    \n",
    "    try:\n",
    "        next_button = driver.find_element(By.XPATH, '/html/body/div/div[1]/main/section/div[2]/div/div[2]/nav/div[2]/div[2]/span/a[2]')\n",
    "        next_button.click()\n",
    "        time.sleep(2)  # Wait for the next page to load\n",
    "    except Exception as e:\n",
    "        print(f\"An error occurred: {e}\")\n",
    "        break\n",
    "\n",
    "# Close the driver\n",
    "driver.quit()"
   ]
  },
  {
   "cell_type": "code",
   "execution_count": null,
   "metadata": {},
   "outputs": [],
   "source": []
  }
 ],
 "metadata": {
  "kernelspec": {
   "display_name": "base",
   "language": "python",
   "name": "python3"
  },
  "language_info": {
   "codemirror_mode": {
    "name": "ipython",
    "version": 3
   },
   "file_extension": ".py",
   "mimetype": "text/x-python",
   "name": "python",
   "nbconvert_exporter": "python",
   "pygments_lexer": "ipython3",
   "version": "3.11.7"
  }
 },
 "nbformat": 4,
 "nbformat_minor": 2
}
