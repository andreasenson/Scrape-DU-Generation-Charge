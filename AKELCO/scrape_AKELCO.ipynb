{
 "cells": [
  {
   "cell_type": "code",
   "execution_count": 1,
   "metadata": {},
   "outputs": [],
   "source": [
    "import os\n",
    "import re\n",
    "import tabula\n",
    "import pandas as pd\n",
    "import numpy as np"
   ]
  },
  {
   "cell_type": "code",
   "execution_count": 2,
   "metadata": {},
   "outputs": [],
   "source": [
    "# Set the JAVA_HOME environment variable to the Java installation directory\n",
    "os.environ[\"JAVA_HOME\"] = \"/opt/homebrew/opt/openjdk/libexec/openjdk.jdk\""
   ]
  },
  {
   "cell_type": "code",
   "execution_count": 3,
   "metadata": {},
   "outputs": [],
   "source": [
    "# Set display options to show all rows and columns\n",
    "pd.set_option('display.max_rows', None)\n",
    "pd.set_option('display.max_columns', None)"
   ]
  },
  {
   "cell_type": "code",
   "execution_count": 6,
   "metadata": {},
   "outputs": [
    {
     "name": "stdout",
     "output_type": "stream",
     "text": [
      "Note: you may need to restart the kernel to use updated packages.\n",
      "Requirement already satisfied: requests in /opt/anaconda3/lib/python3.11/site-packages (2.31.0)\n",
      "Requirement already satisfied: beautifulsoup4 in /opt/anaconda3/lib/python3.11/site-packages (4.12.2)\n",
      "Requirement already satisfied: charset-normalizer<4,>=2 in /opt/anaconda3/lib/python3.11/site-packages (from requests) (2.0.4)\n",
      "Requirement already satisfied: idna<4,>=2.5 in /opt/anaconda3/lib/python3.11/site-packages (from requests) (3.4)\n",
      "Requirement already satisfied: urllib3<3,>=1.21.1 in /opt/anaconda3/lib/python3.11/site-packages (from requests) (2.0.7)\n",
      "Requirement already satisfied: certifi>=2017.4.17 in /opt/anaconda3/lib/python3.11/site-packages (from requests) (2024.6.2)\n",
      "Requirement already satisfied: soupsieve>1.2 in /opt/anaconda3/lib/python3.11/site-packages (from beautifulsoup4) (2.5)\n",
      "Note: you may need to restart the kernel to use updated packages.\n"
     ]
    }
   ],
   "source": [
    "%pip install -q tabula-py\n",
    "%pip install requests beautifulsoup4"
   ]
  },
  {
   "cell_type": "markdown",
   "metadata": {},
   "source": [
    "### **Importing**"
   ]
  },
  {
   "cell_type": "code",
   "execution_count": 5,
   "metadata": {},
   "outputs": [],
   "source": [
    "# Only Jan 2018 to Nov 2022 is machine readable\n",
    "# Criteria for downloading: more than 2 nbsp and href link contains nebula\n",
    "# tabula.read_pdf(... , pages=all)"
   ]
  },
  {
   "cell_type": "code",
   "execution_count": 55,
   "metadata": {},
   "outputs": [
    {
     "name": "stdout",
     "output_type": "stream",
     "text": [
      "Downloaded: OCTOBER 2022 - NOVEMBER 2022.pdf\n",
      "Downloaded: ​APRIL 2022 - SEPTEMBER 2022.pdf\n",
      "Downloaded: NOVEMBER 2020 - MARCH 2022.pdf\n",
      "Downloaded: ​JUNE 2020 - OCTOBER 2020.pdf\n",
      "Downloaded: JANUARY 2018 - MAY 2020.pdf\n",
      "PDFs have been downloaded successfully.\n"
     ]
    }
   ],
   "source": [
    "import os\n",
    "import requests\n",
    "from bs4 import BeautifulSoup\n",
    "\n",
    "# URL to be scraped\n",
    "url = \"https://www.akelco.com.ph/rates.html\"\n",
    "\n",
    "# Make a GET request to fetch the raw HTML content\n",
    "response = requests.get(url)\n",
    "\n",
    "# Check if the request was successful\n",
    "if response.status_code == 200:\n",
    "    # Parse the content with BeautifulSoup\n",
    "    soup = BeautifulSoup(response.content, \"html.parser\")\n",
    "    \n",
    "    # Find all strong tags\n",
    "    strong_tags = soup.find_all('strong')\n",
    "    \n",
    "    base_url = \"http://nebula.wsimg.com\"\n",
    "    \n",
    "    def is_valid_pdf_link(tag):\n",
    "        # Check for the 'a' tag directly under 'strong' or nested within it\n",
    "        link_tag = tag.find_parent('a') or tag.find('a')\n",
    "        if link_tag and '-' in tag.get_text() and 'href' in link_tag.attrs and 'nebula' in link_tag['href']:\n",
    "            return True\n",
    "        return False\n",
    "    \n",
    "    # List to store valid PDF links and their corresponding names\n",
    "    pdf_links = []\n",
    "    \n",
    "    # Iterate over strong tags and check if they meet the criteria\n",
    "    for strong in strong_tags:\n",
    "        link_tag = strong.find_parent('a') or strong.find('a')\n",
    "        if link_tag and is_valid_pdf_link(strong):\n",
    "            text = ' '.join(strong.get_text().split())  # Remove unnecessary spaces\n",
    "            pdf_links.append((link_tag['href'], text))\n",
    "    \n",
    "    # Download the PDFs\n",
    "    download_directory = 'pdf downloads'\n",
    "    os.makedirs(download_directory, exist_ok=True)\n",
    "    \n",
    "    for link, text in pdf_links:\n",
    "        full_url = link if link.startswith('http') else base_url + link\n",
    "        response = requests.get(full_url)\n",
    "        pdf_name = text + '.pdf'\n",
    "        with open(os.path.join(download_directory, pdf_name), 'wb') as pdf_file:\n",
    "            pdf_file.write(response.content)\n",
    "            print(f'Downloaded: {pdf_name}')\n",
    "    \n",
    "    print('PDFs have been downloaded successfully.')\n",
    "else:\n",
    "    print(f\"Failed to retrieve the webpage. Status code: {response.status_code}\")\n"
   ]
  },
  {
   "cell_type": "code",
   "execution_count": null,
   "metadata": {},
   "outputs": [],
   "source": []
  }
 ],
 "metadata": {
  "kernelspec": {
   "display_name": "base",
   "language": "python",
   "name": "python3"
  },
  "language_info": {
   "codemirror_mode": {
    "name": "ipython",
    "version": 3
   },
   "file_extension": ".py",
   "mimetype": "text/x-python",
   "name": "python",
   "nbconvert_exporter": "python",
   "pygments_lexer": "ipython3",
   "version": "3.11.7"
  }
 },
 "nbformat": 4,
 "nbformat_minor": 2
}
