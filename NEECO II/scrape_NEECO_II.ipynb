{
 "cells": [
  {
   "cell_type": "markdown",
   "metadata": {},
   "source": [
    "### **Importing**"
   ]
  },
  {
   "cell_type": "code",
   "execution_count": 2,
   "metadata": {},
   "outputs": [
    {
     "name": "stdout",
     "output_type": "stream",
     "text": [
      "Source code downloaded and saved successfully.\n"
     ]
    }
   ],
   "source": [
    "import requests\n",
    "\n",
    "# URL of the webpage\n",
    "url = 'https://neeco2area1.com/unbundled-power-rates'\n",
    "\n",
    "# Send a GET request to the URL\n",
    "response = requests.get(url)\n",
    "\n",
    "# Check if the request was successful\n",
    "if response.status_code == 200:\n",
    "    # Get the source code of the webpage\n",
    "    source_code = response.text\n",
    "    \n",
    "    # Save the source code to a file\n",
    "    with open('neeco2_webpage.html', 'w', encoding='utf-8') as file:\n",
    "        file.write(source_code)\n",
    "    print(\"Source code downloaded and saved successfully.\")\n",
    "else:\n",
    "    print(f\"Failed to download the source code. Status code: {response.status_code}\")"
   ]
  },
  {
   "cell_type": "code",
   "execution_count": 3,
   "metadata": {},
   "outputs": [
    {
     "name": "stdout",
     "output_type": "stream",
     "text": [
      "Requirement already satisfied: requests in /opt/anaconda3/lib/python3.11/site-packages (2.31.0)\n",
      "Requirement already satisfied: beautifulsoup4 in /opt/anaconda3/lib/python3.11/site-packages (4.12.2)\n",
      "Requirement already satisfied: charset-normalizer<4,>=2 in /opt/anaconda3/lib/python3.11/site-packages (from requests) (2.0.4)\n",
      "Requirement already satisfied: idna<4,>=2.5 in /opt/anaconda3/lib/python3.11/site-packages (from requests) (3.4)\n",
      "Requirement already satisfied: urllib3<3,>=1.21.1 in /opt/anaconda3/lib/python3.11/site-packages (from requests) (2.0.7)\n",
      "Requirement already satisfied: certifi>=2017.4.17 in /opt/anaconda3/lib/python3.11/site-packages (from requests) (2024.6.2)\n",
      "Requirement already satisfied: soupsieve>1.2 in /opt/anaconda3/lib/python3.11/site-packages (from beautifulsoup4) (2.5)\n",
      "Note: you may need to restart the kernel to use updated packages.\n"
     ]
    }
   ],
   "source": [
    "%pip install requests beautifulsoup4"
   ]
  },
  {
   "cell_type": "code",
   "execution_count": 4,
   "metadata": {},
   "outputs": [
    {
     "name": "stdout",
     "output_type": "stream",
     "text": [
      "Downloaded: pdf downloads/08%20L.-Generation-Rate-of-the-Current-Supply-Bill_August-2024.pdf\n",
      "Downloaded: pdf downloads/07.%20L.-Generation-Rate-of-the-Current-Supply-Bill_July-2024.pdf\n",
      "Downloaded: pdf downloads/06.%20L.-Generation-Rate-of-the-Current-Supply-Bill_June-2024.pdf\n",
      "Downloaded: pdf downloads/05%20Breakdown%20of%20Generation%20Charge%20May%2C%202024.pdf\n",
      "Downloaded: pdf downloads/04%20Breakdown%20of%20Generation%20Charge%20April%2C%202024.pdf\n",
      "Downloaded: pdf downloads/03%20Breakdown%20of%20Generation%20Charge%20March%2C%202024.pdf\n",
      "Downloaded: pdf downloads/02%20Breakdown%20of%20Generation%20Charge%20February%2C%202024.pdf\n",
      "Downloaded: pdf downloads/Breakdown%20of%20Generation%20Charge%20January%2C%202024.pdf\n",
      "Downloaded: pdf downloads/12%20Breakdown%20of%20Generation%20Charge%20December%2C%202023.pdf\n",
      "Downloaded: pdf downloads/11%20Breakdown%20of%20Generation%20Charge%20November%2C%202023.pdf\n",
      "Downloaded: pdf downloads/Breakdown%20of%20Generation%20Charge%20October%2C%202023.pdf\n",
      "Downloaded: pdf downloads/09%20Breakdown%20of%20Generation%20Charge%20September_2023.pdf\n",
      "Downloaded: pdf downloads/08%20Breakdown%20of%20Generation%20Charge%20August_2023.pdf\n",
      "Downloaded: pdf downloads/07%20Breakdown%20of%20Generation%20Charge%20July%2C%202023.pdf\n",
      "Downloaded: pdf downloads/06%20Breakdown%20of%20Generation%20Charge%20June%2C%202023.pdf\n",
      "Downloaded: pdf downloads/Breakdown%20of%20Generation%20Charge%20May%2C%202023.pdf\n",
      "Downloaded: pdf downloads/Breakdown%20of%20Generation%20Charge%20April%2C%202023.pdf\n",
      "Downloaded: pdf downloads/Breakdown%20of%20Generation%20Charge%20March%2C%202023.pdf\n",
      "Downloaded: pdf downloads/Breakdown%20of%20Generation%20Charge%20February%2C%202023.pdf\n",
      "Downloaded: pdf downloads/Breakdown%20of%20Generation%20Charge%20January%202023.pdf\n",
      "Downloaded: pdf downloads/12%20Breakdown%20of%20Generation%20Charge%20January%20-%20December_2022.pdf\n"
     ]
    }
   ],
   "source": [
    "import os\n",
    "import requests\n",
    "from bs4 import BeautifulSoup\n",
    "\n",
    "# Load the downloaded HTML source code\n",
    "with open('neeco2_webpage.html', 'r', encoding='utf-8') as file:\n",
    "    source_code = file.read()\n",
    "\n",
    "# Parse the HTML using BeautifulSoup\n",
    "soup = BeautifulSoup(source_code, 'html.parser')\n",
    "\n",
    "# Create a directory to save the PDF files\n",
    "pdf_folder = 'pdf downloads'\n",
    "os.makedirs(pdf_folder, exist_ok=True)\n",
    "\n",
    "# Find all links that contain \"Generation Charge\" and end with \".pdf\"\n",
    "for link in soup.find_all('a', href=True):\n",
    "    if 'Generation Charge' in link.text and link['href'].endswith('.pdf'):\n",
    "        pdf_url = link['href']\n",
    "        \n",
    "        # Handle relative URLs\n",
    "        if not pdf_url.startswith('http'):\n",
    "            pdf_url = requests.compat.urljoin('https://neeco2area1.com', pdf_url)\n",
    "\n",
    "        # Get the filename from the URL\n",
    "        pdf_filename = os.path.join(pdf_folder, os.path.basename(pdf_url))\n",
    "\n",
    "        # Download the PDF\n",
    "        response = requests.get(pdf_url)\n",
    "        if response.status_code == 200:\n",
    "            with open(pdf_filename, 'wb') as pdf_file:\n",
    "                pdf_file.write(response.content)\n",
    "            print(f\"Downloaded: {pdf_filename}\")\n",
    "        else:\n",
    "            print(f\"Failed to download {pdf_url}. Status code: {response.status_code}\")"
   ]
  },
  {
   "cell_type": "markdown",
   "metadata": {},
   "source": [
    "### **Processing**"
   ]
  },
  {
   "cell_type": "code",
   "execution_count": null,
   "metadata": {},
   "outputs": [],
   "source": []
  },
  {
   "cell_type": "code",
   "execution_count": null,
   "metadata": {},
   "outputs": [],
   "source": []
  }
 ],
 "metadata": {
  "kernelspec": {
   "display_name": "base",
   "language": "python",
   "name": "python3"
  },
  "language_info": {
   "codemirror_mode": {
    "name": "ipython",
    "version": 3
   },
   "file_extension": ".py",
   "mimetype": "text/x-python",
   "name": "python",
   "nbconvert_exporter": "python",
   "pygments_lexer": "ipython3",
   "version": "3.11.7"
  }
 },
 "nbformat": 4,
 "nbformat_minor": 2
}
