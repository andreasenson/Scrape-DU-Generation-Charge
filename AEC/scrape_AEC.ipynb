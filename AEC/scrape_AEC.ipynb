{
 "cells": [
  {
   "cell_type": "code",
   "execution_count": 3,
   "metadata": {},
   "outputs": [],
   "source": [
    "import os\n",
    "import re\n",
    "import tabula\n",
    "import pandas as pd\n",
    "import numpy as np"
   ]
  },
  {
   "cell_type": "code",
   "execution_count": 4,
   "metadata": {},
   "outputs": [],
   "source": [
    "# Set the JAVA_HOME environment variable to the Java installation directory\n",
    "os.environ[\"JAVA_HOME\"] = \"/opt/homebrew/opt/openjdk/libexec/openjdk.jdk\""
   ]
  },
  {
   "cell_type": "code",
   "execution_count": 5,
   "metadata": {},
   "outputs": [],
   "source": [
    "# Set display options to show all rows and columns\n",
    "pd.set_option('display.max_rows', None)\n",
    "pd.set_option('display.max_columns', None)"
   ]
  },
  {
   "cell_type": "code",
   "execution_count": 6,
   "metadata": {},
   "outputs": [
    {
     "name": "stdout",
     "output_type": "stream",
     "text": [
      "Note: you may need to restart the kernel to use updated packages.\n",
      "Requirement already satisfied: requests in /opt/anaconda3/lib/python3.11/site-packages (2.31.0)\n",
      "Requirement already satisfied: beautifulsoup4 in /opt/anaconda3/lib/python3.11/site-packages (4.12.2)\n",
      "Requirement already satisfied: charset-normalizer<4,>=2 in /opt/anaconda3/lib/python3.11/site-packages (from requests) (2.0.4)\n",
      "Requirement already satisfied: idna<4,>=2.5 in /opt/anaconda3/lib/python3.11/site-packages (from requests) (3.4)\n",
      "Requirement already satisfied: urllib3<3,>=1.21.1 in /opt/anaconda3/lib/python3.11/site-packages (from requests) (2.0.7)\n",
      "Requirement already satisfied: certifi>=2017.4.17 in /opt/anaconda3/lib/python3.11/site-packages (from requests) (2024.6.2)\n",
      "Requirement already satisfied: soupsieve>1.2 in /opt/anaconda3/lib/python3.11/site-packages (from beautifulsoup4) (2.5)\n",
      "Note: you may need to restart the kernel to use updated packages.\n",
      "Requirement already satisfied: openpyxl in /opt/anaconda3/lib/python3.11/site-packages (3.0.10)\n",
      "Requirement already satisfied: et_xmlfile in /opt/anaconda3/lib/python3.11/site-packages (from openpyxl) (1.1.0)\n",
      "Note: you may need to restart the kernel to use updated packages.\n"
     ]
    }
   ],
   "source": [
    "%pip install -q tabula-py\n",
    "%pip install requests beautifulsoup4\n",
    "%pip install openpyxl"
   ]
  },
  {
   "cell_type": "markdown",
   "metadata": {},
   "source": [
    "### **Importing**"
   ]
  },
  {
   "cell_type": "markdown",
   "metadata": {},
   "source": [
    "Download the source code for AEC's webpage."
   ]
  },
  {
   "cell_type": "code",
   "execution_count": 1,
   "metadata": {},
   "outputs": [
    {
     "name": "stdout",
     "output_type": "stream",
     "text": [
      "HTML content has been saved successfully.\n"
     ]
    }
   ],
   "source": [
    "import requests\n",
    "from bs4 import BeautifulSoup\n",
    "\n",
    "# URL to be scraped\n",
    "url = \"https://angeleselectric.com.ph/generation-charge/\"\n",
    "\n",
    "# Make a GET request to fetch the raw HTML content\n",
    "response = requests.get(url)\n",
    "\n",
    "# Check if the request was successful\n",
    "if response.status_code == 200:\n",
    "    # Parse the content with BeautifulSoup\n",
    "    soup = BeautifulSoup(response.content, \"html.parser\")\n",
    "    \n",
    "    # Save the raw HTML to a file\n",
    "    with open('generation_charge.html', 'w', encoding='utf-8') as file:\n",
    "        file.write(soup.prettify())\n",
    "    \n",
    "    print(\"HTML content has been saved successfully.\")\n",
    "else:\n",
    "    print(f\"Failed to retrieve the webpage. Status code: {response.status_code}\")"
   ]
  },
  {
   "cell_type": "code",
   "execution_count": 16,
   "metadata": {},
   "outputs": [
    {
     "name": "stdout",
     "output_type": "stream",
     "text": [
      "Downloaded: pdf downloads/July 2024 Generation Charge.pdf\n",
      "Downloaded: pdf downloads/June 2024 Generation Charge.pdf\n",
      "Downloaded: pdf downloads/May 2024 Generation Charge.pdf\n",
      "Downloaded: pdf downloads/April 2024 Generation Charge.pdf\n",
      "Downloaded: pdf downloads/March 2024 Generation Charge.pdf\n",
      "Downloaded: pdf downloads/February 2024 Generation Charge.pdf\n",
      "Downloaded: pdf downloads/January 2024 Generation Charge.pdf\n",
      "Downloaded: pdf downloads/December 2023 Generation Charge.pdf\n",
      "Downloaded: pdf downloads/November 2023 Generation Charge.pdf\n",
      "Downloaded: pdf downloads/October 2023 Generation Charge.pdf\n",
      "Downloaded: pdf downloads/September 2023 Generation Charge.pdf\n",
      "Downloaded: pdf downloads/August 2023 Generation Charge.pdf\n",
      "Downloaded: pdf downloads/July 2023 Generation Charge.pdf\n",
      "Downloaded: pdf downloads/June 2023 Generation Charge.pdf\n",
      "Downloaded: pdf downloads/May 2023 Generation Charge.pdf\n",
      "Downloaded: pdf downloads/April 2023 Generation Charge.pdf\n",
      "Downloaded: pdf downloads/March 2023 Generation Charge.pdf\n",
      "Downloaded: pdf downloads/February 2023 Generation Charge.pdf\n",
      "Downloaded: pdf downloads/January 2023 Generation Charge.pdf\n",
      "Downloaded: pdf downloads/December 2022 Generation Charge.pdf\n",
      "Downloaded: pdf downloads/November 2022 Generation Charge.pdf\n",
      "Downloaded: pdf downloads/October 2022 Generation Charge.pdf\n",
      "Downloaded: pdf downloads/September 2022 Generation Charge.pdf\n",
      "Downloaded: pdf downloads/August 2022 Generation Charge.pdf\n",
      "Downloaded: pdf downloads/July 2022 Generation Charge.pdf\n",
      "Downloaded: pdf downloads/June 2022 Generation Charge.pdf\n",
      "Downloaded: pdf downloads/May 2022 Generation Charge.pdf\n",
      "Downloaded: pdf downloads/April 2022 Generation Charge.pdf\n",
      "Downloaded: pdf downloads/March 2022 Generation Charge.pdf\n",
      "Downloaded: pdf downloads/February 2022 Generation Charge.pdf\n",
      "Downloaded: pdf downloads/January 2022 Generation Charge.pdf\n",
      "Downloaded: pdf downloads/December 2021 Generation Charge.pdf\n",
      "Downloaded: pdf downloads/November 2021 Generation Charge.pdf\n",
      "Downloaded: pdf downloads/October 2021 Generation Charge.pdf\n",
      "Downloaded: pdf downloads/September 2021 Generation Charge.pdf\n",
      "Downloaded: pdf downloads/August 2021 Generation Charge.pdf\n",
      "Downloaded: pdf downloads/July 2021 Generation Charge.pdf\n",
      "Downloaded: pdf downloads/June 2021 Generation Charge.pdf\n",
      "Downloaded: pdf downloads/May 2021 Generation Charge.pdf\n",
      "Downloaded: pdf downloads/April 2021 Generation Charge.pdf\n",
      "Downloaded: pdf downloads/March 2021 Generation Charge.pdf\n",
      "Downloaded: pdf downloads/February 2021 Generation Charge.pdf\n",
      "Downloaded: pdf downloads/January 2021 Generation Charge.pdf\n",
      "Downloaded: pdf downloads/December 2020 Generation Charge.pdf\n",
      "Downloaded: pdf downloads/November 2020 Generation Charge.pdf\n",
      "Downloaded: pdf downloads/October 2020 Generation Charge.pdf\n",
      "Downloaded: pdf downloads/September 2020 Generation Charge.pdf\n",
      "Downloaded: pdf downloads/August 2020 Generation Charge.pdf\n",
      "Downloaded: pdf downloads/July 2020 Generation Charge.pdf\n",
      "Downloaded: pdf downloads/June 2020 Generation Charge.pdf\n",
      "Downloaded: pdf downloads/May 2020 Generation Charge.pdf\n",
      "Downloaded: pdf downloads/April 2020 Generation Charge.pdf\n",
      "Downloaded: pdf downloads/March 2020 Generation Charge.pdf\n",
      "Downloaded: pdf downloads/February 2020 Generation Charge.pdf\n",
      "Downloaded: pdf downloads/January 2020 Generation Charge.pdf\n",
      "Download completed.\n"
     ]
    }
   ],
   "source": [
    "# Path to the HTML file\n",
    "html_file_path = 'generation_charge.html'\n",
    "\n",
    "# Directory to save downloaded PDFs\n",
    "save_dir = 'pdf downloads'\n",
    "os.makedirs(save_dir, exist_ok=True)\n",
    "\n",
    "# Load the HTML content\n",
    "with open(html_file_path, 'r', encoding='utf-8') as file:\n",
    "    html_content = file.read()\n",
    "\n",
    "# Parse the HTML content\n",
    "soup = BeautifulSoup(html_content, 'html.parser')\n",
    "\n",
    "# Find all <a> tags with text containing \"PDF\"\n",
    "links = soup.find_all('a', string=re.compile(r'PDF', re.IGNORECASE))\n",
    "\n",
    "# Check if any links are found\n",
    "if not links:\n",
    "    print(\"No links found with the text containing 'PDF'.\")\n",
    "\n",
    "# Function to sanitize file names\n",
    "def sanitize_filename(filename):\n",
    "    return \"\".join(c for c in filename if c.isalnum() or c in (' ', '_', '-')).rstrip()\n",
    "\n",
    "# Download each PDF\n",
    "for link in links:\n",
    "    pdf_url = link['href']\n",
    "    \n",
    "    # Find the closest preceding <strong> tag\n",
    "    strong_tag = link.find_previous('strong')\n",
    "    if strong_tag:\n",
    "        file_name = strong_tag.get_text(strip=True)\n",
    "    else:\n",
    "        file_name = link.text.strip().replace(' ', '_')\n",
    "    \n",
    "    sanitized_file_name = sanitize_filename(file_name) + '.pdf'\n",
    "    file_path = os.path.join(save_dir, sanitized_file_name)\n",
    "    \n",
    "    # Download the PDF file\n",
    "    response = requests.get(pdf_url)\n",
    "    if response.status_code == 200:\n",
    "        with open(file_path, 'wb') as pdf_file:\n",
    "            pdf_file.write(response.content)\n",
    "        print(f'Downloaded: {file_path}')\n",
    "    else:\n",
    "        print(f'Failed to download: {pdf_url}')\n",
    "\n",
    "print('Download completed.')\n"
   ]
  },
  {
   "cell_type": "code",
   "execution_count": null,
   "metadata": {},
   "outputs": [],
   "source": []
  }
 ],
 "metadata": {
  "kernelspec": {
   "display_name": "base",
   "language": "python",
   "name": "python3"
  },
  "language_info": {
   "codemirror_mode": {
    "name": "ipython",
    "version": 3
   },
   "file_extension": ".py",
   "mimetype": "text/x-python",
   "name": "python",
   "nbconvert_exporter": "python",
   "pygments_lexer": "ipython3",
   "version": "3.11.7"
  }
 },
 "nbformat": 4,
 "nbformat_minor": 2
}
